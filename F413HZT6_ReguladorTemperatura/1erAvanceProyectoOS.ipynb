{
 "cells": [
  {
   "cell_type": "markdown",
   "id": "VtECoCggrYR4",
   "metadata": {
    "id": "VtECoCggrYR4"
   },
   "source": [
    "| Project name   |  The name of your project |\n",
    "|:----------|:-------------|\n",
    "| **Autor(S)**| 33293, Daniel Agraz Vallejo<br>28241, Michelle Andrea Muñiz Lopez<br> 33892, Stephanie Gonzalez |\n",
    "| **Editor**||\n",
    "| **Last update** | 12 de septiembre de 2022 | "
   ]
  },
  {
   "cell_type": "markdown",
   "id": "GDvJAZxvrYSK",
   "metadata": {
    "id": "GDvJAZxvrYSK"
   },
   "source": [
    "### <span style=\"color:blue\">Problem statement</span>\n",
    "\n",
    "Para este proyecto se busca realizar un sistema que permita identificar la temperatura de un lugar determinado (en este caso una caja) mediante un censor se temperatura y de acuerdo a un rango de grados que se indicara, un ventilador se prenda o se apague dependiendo si la caja se calienta o caso contrario. Esto con la finalidad de simular un salon de clases que cuenta con aire acondicionado. Se busca la optimización de este sistema, que a su vez, también aporta a la reducción del uso de energía innecesaria, ya que una vez que se calienta y el aire se enciende, eventualmente el salon llegara a una temperatura más alta y ya no estará caliente. Sin embargo, llegara un punto en el que el salon se vuelva a calentar y el proceso se repetirá constantemente mientras se encuentre encendido. Esta problemática es la que se busca resolver con nuestro sistema.\n"
   ]
  },
  {
   "cell_type": "markdown",
   "id": "FHu4mtS7rYSN",
   "metadata": {
    "id": "FHu4mtS7rYSN"
   },
   "source": [
    "### <span style=\"color:blue\">Hardware Requirements</span>\n",
    "\n",
    "\n",
    "|Component|Quantity|Characteristics|Component|\n",
    "|:---|:---|:-----|:---:|\n",
    "|STM32 F413ZHT6|1| Microncontrolador de Núcleo-144|<img src=\"img/STM32HAL.jpeg\" alt=\"MCU\" width=\"150\" eight=\"150\">|\n",
    "|ATWINC1500 |1| Módulo de Comunicación<br> |<img src=\"img/ATWINC1500.jpeg\" alt=\"Módulo de Comunicación AdaFruit\" width=\"150\" eight=\"150\">|\n",
    "|Cables Macho|5| Alambres de conexión| <img src=\"img/CablesMacho.jpeg\"  alt=\"Cables Macho\" width=\"150\" eight=\"150\">\n",
    "|Sensor LM35|1| Sensor de Temperatura| <img src=\"img/LM35.jpg\" alt=\"Sensor de Temperatura\" width=\"150\">\n",
    "|Breadboard MB-102|1|Placa de pruebas| <img src=\"img/Breadboard.jpeg\" alt=\"Breadboard\" width=\"150\">\n",
    "\n",
    "\n",
    "\n"
   ]
  },
  {
   "cell_type": "markdown",
   "id": "l3L59qlWrYSR",
   "metadata": {
    "id": "l3L59qlWrYSR"
   },
   "source": [
    "### <span style=\"color:blue\">Hardware Schematic</span>\n",
    "\n",
    "<center>\n",
    "<img src=\"img/SchematicProyectoOS.png\" alt=\"Esquemático\">\n",
    "</center>"
   ]
  }
 ],
 "metadata": {
  "colab": {
   "collapsed_sections": [],
   "provenance": []
  },
  "kernelspec": {
   "display_name": "Python 3 (ipykernel)",
   "language": "python",
   "name": "python3"
  },
  "language_info": {
   "codemirror_mode": {
    "name": "ipython",
    "version": 3
   },
   "file_extension": ".py",
   "mimetype": "text/x-python",
   "name": "python",
   "nbconvert_exporter": "python",
   "pygments_lexer": "ipython3",
   "version": "3.9.7"
  }
 },
 "nbformat": 4,
 "nbformat_minor": 5
}
