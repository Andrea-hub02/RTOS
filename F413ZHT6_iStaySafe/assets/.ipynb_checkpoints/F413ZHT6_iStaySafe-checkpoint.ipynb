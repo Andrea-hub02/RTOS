{
 "cells": [
  {
   "cell_type": "markdown",
   "id": "VtECoCggrYR4",
   "metadata": {
    "id": "VtECoCggrYR4"
   },
   "source": [
    "| Project name   |  iStaySafe |\n",
    "|:----------|:-------------|\n",
    "| **Autor(S)**| T031044, Daniel Alejandro Cruz Salazar<br>T033055, Jorge Tomas Araujo Gonzales<br> T034226, Luis Mario Ventura Parra |\n",
    "| **Editor**|Dr. Adán Hirales Carbajal|\n",
    "| **Last update** |  |"
   ]
  },
  {
   "cell_type": "markdown",
   "id": "GDvJAZxvrYSK",
   "metadata": {
    "id": "GDvJAZxvrYSK"
   },
   "source": [
    "### <span style=\"color:blue\">Problem statement</span>\n",
    "\n",
    "Many systems require sensing and/or actuating upon multiple input/output sensors. Often the number of ports needed exceed those available in the MCU. Digital I/O (input/output) capabilities can be expanded via the use of shift registers. To illustrate this issue, we address the problem of creating an alarm system under the assumption that multiple sensors are periodically read and multiple LEDs updated their state. \n",
    "\n",
    "\n",
    "The software solution consists of two tasks: produce and consumer task. The producer periodically reads the binary string produced by the PISO shift register, stores its integer representation in the shared queue, and yields control. The consumer task can execute when data becomes available in the shared queue. On execution, it pops an integer from the queue, uses it to enable/disable LEDs selectively, and yields control. The shared queue is bounded without wraparound. The queue is protected via a binary semaphore. \n",
    "\n",
    "The project uses FreeRTOS CMSIS Ver. 2. The scheduling policy is Rate Monotonic (RM) with time triggering.  \n"
   ]
  },
  {
   "cell_type": "markdown",
   "id": "FHu4mtS7rYSN",
   "metadata": {
    "id": "FHu4mtS7rYSN"
   },
   "source": [
    "### <span style=\"color:blue\">Hardware requirements</span>\n",
    "\n",
    "\n",
    "|Component|Quantity|Characteristics|Component|\n",
    "|:---|:---|:-----|:---:|\n",
    "|STM32 f413ZHT6|1| Development board|<img src=\"../img/stm32.jpg\" alt=\"SIPO\" width=\"150\" eight=\"150\">|\n",
    "|ESP32|1|  Wi-Fi communication module |<img src=\"../img/esp32.jpeg\" alt=\"SIPO\" width=\"150\" eight=\"150\">|\n",
    "|ULPSM-Ethanol 968-007|1| Ultra-Low Power Analog Sensor Module for Ethanol|<img src=\"/img_HWreq/ethanol.jpg\" alt=\"PISO\" width=\"200\" height=\"200\">|\n",
    "|KY-039|1|Heartbeat sensor module|<img src=\"..\\img\\ky_039.png\" alt=\"PISO\" width=\"100\" height=\"100\">|\n",
    "\n",
    "\n"
   ]
  },
  {
   "cell_type": "markdown",
   "id": "b0a35473",
   "metadata": {},
   "source": []
  },
  {
   "cell_type": "markdown",
   "id": "l3L59qlWrYSR",
   "metadata": {
    "id": "l3L59qlWrYSR"
   },
   "source": [
    "### <span style=\"color:blue\">hardware schematic</span>\n",
    "\n",
    "<center>\n",
    "<img class=\"large-image\" width=\"350\" height=\"350\" src=\"F413ZHT6_iStaySafe/img/schematic.png\" />\n",
    "</center>"
   ]
  },
  {
   "cell_type": "markdown",
   "id": "jpuqjeH4rYSS",
   "metadata": {
    "id": "jpuqjeH4rYSS"
   },
   "source": [
    "### <span style=\"color:blue\">Hardware layout</span>\n",
    "\n",
    "| | |\n",
    "|:--:|:--:|\n",
    "|<img class=\"large-image\" width=\"40\" height=\"40\" src=\"img_shift_register/circuit/installed.png\" alt=\"Installed hardware\"/>|<img class=\"large-image\" width=\"40\" height=\"40\" src=\"img_shift_register/circuit/stm32_connections.jpg\" alt=\"Connection to board\"/>|\n",
    "|Installed hardware |Connection to board|\n",
    "|<img class=\"large-image\" width=\"40\" height=\"40\" src=\"img_shift_register/circuit/pa3_marked.png\" alt=\"Installed hardware\"/>|<img class=\"large-image\" width=\"40\" height=\"40\" src=\"img_shift_register/circuit/pc0_marked.png\" alt=\"Connection to board\"/>|\n",
    "|Read data to STM32. Pin PA3 connection |Clock signal. Pin PC0 connection|\n",
    "|<img class=\"large-image\" width=\"40\" height=\"40\" src=\"img_shift_register/circuit/pc3_marked.png\" alt=\"Installed hardware\"/>|<img class=\"large-image\" width=\"40\" height=\"40\" src=\"img_shift_register/circuit/pf3_marked.png\" alt=\"Connection to board\"/>|\n",
    "|PC3: Choose between parallel and serial mode. Pin PC3 connection|Send serial data from STM32 to IC|\n",
    "\n"
   ]
  },
  {
   "cell_type": "markdown",
   "id": "hVVzcbehqOtf",
   "metadata": {
    "id": "hVVzcbehqOtf"
   },
   "source": []
  },
  {
   "cell_type": "markdown",
   "id": "fqEH0PPdrYSU",
   "metadata": {
    "id": "fqEH0PPdrYSU"
   },
   "source": [
    "### <span style=\"color:blue\">CubeMX parameters</span>\n",
    "\n",
    "\n",
    "This solution is by <a href = \"mailto: ristobal.capiz@cetys.mx\">Mtro. Christobal Capiz</a>. Academic Coordinator - Mechatronics Engineering at CETYS Universidad Mexicali. The following table summarizes the project settings. To configure TIM6 to operate at 1 Hz APB1 timer clocks was set to operate at 16Mhz, TIM6 settings include:\n",
    "- Prescaler (PSC) to 1600-1\n",
    "- Counter period (16 bit AutoReload Register, ARR) to 10000-1.\n",
    "\n",
    "The solution uses **pointers to update the period memory location**.\n",
    "<style type=\"text/css\">\n",
    ".tg  {border-collapse:collapse;border-spacing:0;border-color:#999;}\n",
    ".tg td{font-family:Arial, sans-serif;font-size:14px;padding:10px 5px;border-style:solid;border-width:0px;overflow:hidden;word-break:normal;border-color:#999;color:#444;background-color:#F7FDFA;}\n",
    ".tg th{font-family:Arial, sans-serif;font-size:14px;font-weight:normal;padding:10px 5px;border-style:solid;border-width:0px;overflow:hidden;word-break:normal;border-color:#999;color:#fff;background-color:#26ADE4;}\n",
    ".tg .tg-c3ow{border-color:inherit;text-align:left;vertical-align:top}\n",
    ".tg .tg-fymr{font-weight:bold;border-color:inherit;text-align:center;vertical-align:top}\n",
    ".tg .tg-0pky{border-color:inherit;text-align:left;vertical-align:top}\n",
    ".tg .tg-7btt{font-weight:bold;border-color:inherit;text-align:center;vertical-align:top}\n",
    "</style>\n",
    "<table class=\"tg\">\n",
    "  <caption>Table III. Solution 1 specification</caption>\n",
    "  <tr>\n",
    "    <th class=\"tg-fymr\" colspan=\"2\">Class</th>\n",
    "    <th class=\"tg-fymr\" colspan=\"2\">Attribute</th>\n",
    "    <th class=\"tg-fymr\" colspan=\"3\">Value</th>\n",
    "  </tr>\n",
    "  <tr>\n",
    "    <td class=\"tg-c3ow\" colspan=\"2\"><b>Project</b></td>\n",
    "    <td class=\"tg-c3ow\" colspan=\"2\">Name</td>\n",
    "    <td class=\"tg-c3ow\" colspan=\"3\">F767ZIV1_IntS1</td>\n",
    "  </tr>\n",
    "  <tr>\n",
    "    <td class=\"tg-c3ow\" colspan=\"2\"></td>\n",
    "    <td class=\"tg-c3ow\" colspan=\"2\">Clock</td>\n",
    "    <td class=\"tg-c3ow\" colspan=\"3\">16Mhz</td>\n",
    "  </tr>\n",
    "  <tr>\n",
    "    <td class=\"tg-c3ow\" colspan=\"2\"></td>\n",
    "    <td class=\"tg-c3ow\" colspan=\"2\">Timebase source</td>\n",
    "    <td class=\"tg-c3ow\" colspan=\"3\">TM1</td>\n",
    "  </tr>\n",
    "  <tr>\n",
    "    <td class=\"tg-c3ow\" colspan=\"2\"><b>STM32 Pins</b></td>\n",
    "      <td class=\"tg-c3ow\" colspan=\"2\"><span style=\"color:red\">PC13, PB0, PB7, and PB14</span></td>\n",
    "    <td class=\"tg-c3ow\" colspan=\"3\"><span style=\"color:red\">Set PC13 to GPIO_Input and<br>PB0, PB7, and PB14 to GPIO_Output</span></td>\n",
    "  </tr>\n",
    "  <tr>\n",
    "    <td class=\"tg-c3ow\" colspan=\"2\"><b>FreeRTOS</b></td>\n",
    "    <td class=\"tg-c3ow\" colspan=\"2\">API</td>\n",
    "    <td class=\"tg-c3ow\" colspan=\"3\">CMSIS v1</td>\n",
    "  </tr>\n",
    " <tr>\n",
    "    <td class=\"tg-fymr\"><b>Task/interrupt</b></td>\n",
    "    <td class=\"tg-fymr\"><b>Type</b></td>\n",
    "    <td class=\"tg-fymr\"><b>Name</b></td>\n",
    "    <td class=\"tg-fymr\"><b>Entry function</b></td>\n",
    "    <td class=\"tg-fymr\"><b>$w_j$</b></td>\n",
    "    <td class=\"tg-fymr\"><b>$p_j$</b></td>\n",
    "    <td class=\"tg-fymr\"><b>Port</b></td>\n",
    "  </tr>\n",
    "  <tr>\n",
    "      <td class=\"tg-fymr\">1</td>\n",
    "      <td class=\"tg-fymr\">Persistent</td>\n",
    "      <td class=\"tg-fymr\">buttonTask</td>\n",
    "      <td class=\"tg-fymr\"><span style=\"color:red\">buttonTaskHook</span></td>\n",
    "      <td class=\"tg-fymr\">osPriorityNormal</td>\n",
    "      <td class=\"tg-fymr\"></td>\n",
    "      <td class=\"tg-fymr\">PC13</td>\n",
    "    </tr>\n",
    "  <tr>\n",
    "      <td class=\"tg-fymr\">2</td>\n",
    "      <td class=\"tg-fymr\">Interrupt</td>\n",
    "      <td class=\"tg-fymr\"></td>\n",
    "      <td class=\"tg-fymr\"><span style=\"color:red\">HAL_TIM_PeriodElapsedCallBack</span></td>\n",
    "      <td class=\"tg-fymr\">0</td>\n",
    "      <td class=\"tg-fymr\"></td>\n",
    "      <td class=\"tg-fymr\">PB0 at 1 Hz,<br>PB7 at 2 Hz,<br>PB14 at 4 Hz.</td>\n",
    "   </tr>\n",
    "</table>\n",
    "\n",
    "**Note**, NVIC TIM6 must be enabled in cubeMX and ```HAL_TIM_Base_Start_IT``` executed for ```HAL_TIM_PeriodElapsedCallBack``` to work.\n"
   ]
  },
  {
   "cell_type": "markdown",
   "id": "uCRuYt0mrYSZ",
   "metadata": {
    "id": "uCRuYt0mrYSZ"
   },
   "source": [
    "### <span style=\"color:blue\">Software components</span>"
   ]
  },
  {
   "cell_type": "markdown",
   "id": "VY8GUZ7FrYSa",
   "metadata": {
    "id": "VY8GUZ7FrYSa"
   },
   "source": [
    "#### Setting up the pins\n",
    "\n",
    "The function \"MX_GPIO_Init\" enables and sets all needed pins to an initially deasserted state, so that they can be used in the rest of the program.\n",
    "\n",
    "```\n",
    "C\n",
    "static void MX_GPIO_Init(void)\n",
    "{\n",
    "  GPIO_InitTypeDef GPIO_InitStruct = {0};\n",
    "\n",
    "  /* GPIO Ports Clock Enable */\n",
    "  __HAL_RCC_GPIOC_CLK_ENABLE();\n",
    "  __HAL_RCC_GPIOF_CLK_ENABLE();\n",
    "  __HAL_RCC_GPIOH_CLK_ENABLE();\n",
    "  __HAL_RCC_GPIOA_CLK_ENABLE();\n",
    "  __HAL_RCC_GPIOB_CLK_ENABLE();\n",
    "  __HAL_RCC_GPIOD_CLK_ENABLE();\n",
    "  __HAL_RCC_GPIOG_CLK_ENABLE();\n",
    "\n",
    "  /*Configure GPIO pin Output Level */\n",
    "  HAL_GPIO_WritePin(GPIOF, GPIO_PIN_3|GPIO_PIN_5, GPIO_PIN_RESET);\n",
    "\n",
    "  /*Configure GPIO pin Output Level */\n",
    "  HAL_GPIO_WritePin(GPIOC, GPIO_PIN_0|GPIO_PIN_3, GPIO_PIN_RESET);\n",
    "\n",
    "  /*Configure GPIO pins : PF3 PF5 PF10 */\n",
    "  GPIO_InitStruct.Pin = GPIO_PIN_3|GPIO_PIN_5|GPIO_PIN_10;\n",
    "  GPIO_InitStruct.Mode = GPIO_MODE_OUTPUT_PP;\n",
    "  GPIO_InitStruct.Pull = GPIO_NOPULL;\n",
    "  GPIO_InitStruct.Speed = GPIO_SPEED_FREQ_LOW;\n",
    "  HAL_GPIO_Init(GPIOF, &GPIO_InitStruct);\n",
    "\n",
    "  /*Configure GPIO pins : PC0 PC3 */\n",
    "  GPIO_InitStruct.Pin = GPIO_PIN_0|GPIO_PIN_3;\n",
    "  GPIO_InitStruct.Mode = GPIO_MODE_OUTPUT_PP;\n",
    "  GPIO_InitStruct.Pull = GPIO_NOPULL;\n",
    "  GPIO_InitStruct.Speed = GPIO_SPEED_FREQ_LOW;\n",
    "  HAL_GPIO_Init(GPIOC, &GPIO_InitStruct);\n",
    "\n",
    "  /*Configure GPIO pin : PA3 */\n",
    "  GPIO_InitStruct.Pin = GPIO_PIN_3;\n",
    "  GPIO_InitStruct.Mode = GPIO_MODE_INPUT;\n",
    "  GPIO_InitStruct.Pull = GPIO_NOPULL;\n",
    "  HAL_GPIO_Init(GPIOA, &GPIO_InitStruct);\n",
    "\n",
    "}\n",
    "```"
   ]
  },
  {
   "cell_type": "markdown",
   "id": "HVo-JhNwrYSc",
   "metadata": {
    "id": "HVo-JhNwrYSc"
   },
   "source": [
    "\n",
    "#### Creating the message queue\n",
    "\n",
    "This code creates our <i>message</i> data type, which stores 8 bits of data, one per input read. These messages are then put in the queue created by the function ```StartQueue```, from where they can later be retrieved and sent serially to the shift register that will use them.\n",
    "\n",
    "```\n",
    "#define MSGQUEUE_OBJECTS 16\n",
    "\n",
    "typedef struct {\n",
    "  uint8_t flags;\n",
    "} MSGQUEUE_OBJ_t;\n",
    "\n",
    "osMessageQueueId_t mid_MsgQueue;\n",
    "\n",
    "void StartQueue(void)\n",
    "{\n",
    "  mid_MsgQueue = osMessageQueueNew(MSGQUEUE_OBJECTS, sizeof(MSGQUEUE_OBJ_t), NULL);\n",
    "  osDelay(osWaitForever);\n",
    "  while (1)\n",
    "    ;\n",
    "}\n",
    "```\n"
   ]
  },
  {
   "cell_type": "markdown",
   "id": "GBl0cqberYSe",
   "metadata": {
    "id": "GBl0cqberYSe"
   },
   "source": [
    "#### Reading from C4014BE Parallel input / serial output shift register\n",
    "\n",
    "The following code signals the PISO shift register to sample all 8 inputs and send them serially to pin PA3, where they are read and stored in our previously declared <i>message queue</i>. If this queue is full, the function will keep trying to store the same message until successful, yielding control as requested by the RTOS.\n",
    "\n",
    "This function has <b>normal priority</b>, which means that it is at the same priority level as our <i>write</i> function.\n",
    "\n",
    "```\n",
    "void StartRead(void *argument)\n",
    "{\n",
    "  /* VARIABLE DECLARATION */\n",
    "  uint8_t tmp_reading = 0;\n",
    "\n",
    "  /* Infinite loop */\n",
    "  for(;;)\n",
    "  {\n",
    "\n",
    "    MSGQUEUE_OBJ_t msg;\n",
    "    /* P/S Control HIGH to read from parallel inputs */\n",
    "    HAL_GPIO_WritePin(GPIOC, GPIO_PIN_3, GPIO_PIN_SET);\n",
    "    osDelay(10);\n",
    "\n",
    "    /* Read from inputs */\n",
    "    HAL_GPIO_WritePin(GPIOC, GPIO_PIN_0, GPIO_PIN_SET);\n",
    "    osDelay(10);\n",
    "\n",
    "    /* Reset pins to start serial transmission */\n",
    "    HAL_GPIO_WritePin(GPIOC, GPIO_PIN_0|GPIO_PIN_3, GPIO_PIN_RESET);\n",
    "\n",
    "    /* Read all 8 inputs */\n",
    "    for(int i = 0; i < 8; i++) {\n",
    "      /* Shift msg to prepare for reading */\n",
    "      msg.flags <<= 1;\n",
    "\n",
    "      /* HAL_GPIO_WritePin(GPIOB, LD3_Pin, GPIO_PIN_SET); */\n",
    "      /* Set the message content */\n",
    "      tmp_reading = HAL_GPIO_ReadPin(GPIOA, GPIO_PIN_3);\n",
    "      msg.flags |= tmp_reading;\n",
    "\n",
    "\n",
    "      /* Shift to next input */\n",
    "      HAL_GPIO_WritePin(GPIOC, GPIO_PIN_0, GPIO_PIN_SET);\n",
    "      osDelay(50);\n",
    "      HAL_GPIO_WritePin(GPIOC, GPIO_PIN_0, GPIO_PIN_RESET);\n",
    "      osDelay(50);\n",
    "    }\n",
    "\n",
    "    /* Send message to queue. Wait forever, retrying, if queue is full */\n",
    "    /* HAL_GPIO_WritePin(GPIOB, LD3_Pin, GPIO_PIN_SET); */\n",
    "    osMessageQueuePut(mid_MsgQueue, &msg, 0U, osWaitForever);\n",
    "    /* HAL_GPIO_WritePin(GPIOB, LD3_Pin, GPIO_PIN_RESET); */\n",
    "\n",
    "    osDelay(1000);\n",
    "  }\n",
    "}\n",
    "```"
   ]
  },
  {
   "cell_type": "markdown",
   "id": "6GjjzgnJrYSg",
   "metadata": {
    "id": "6GjjzgnJrYSg"
   },
   "source": [
    "#### Writing to SN54HC595 Serial input / parallel output shift register\n",
    "\n",
    "The function ```StartWrite``` remains idle while the <i>message queue</i> is empty. Once it receives a message, it is able to fetch it and examine it. If all is Ok, it serially shifts all 8 bits from the read message to the SIPO shift register. Once this is done, it signals the register to send all at once the stored bits to their respective output.\n",
    "\n",
    "This function has <b>normal priority</b>, which means that it is at the same priority level as our <i>read</i> function.\n",
    "\n",
    "```\n",
    "void StartWrite(void *argument)\n",
    "{\n",
    "  /* VARIABLE DECLARATION */\n",
    "  osStatus_t status;\n",
    "  MSGQUEUE_OBJ_t msg;\n",
    "\n",
    "  /* Infinite loop */\n",
    "  for(;;)\n",
    "  {\n",
    "    /* Wait until message is available */\n",
    "    status = osMessageQueueGet(mid_MsgQueue, &msg, NULL, osWaitForever);\n",
    "\n",
    "    /* Validate message */\n",
    "    if (status == osOK) {\n",
    "\n",
    "      /* Load data into shift register */\n",
    "      for(int i = 0; i < 8; i++) {\n",
    "        /* Send bit from microcontroller*/\n",
    "        if (msg.flags & 1)\n",
    "          HAL_GPIO_WritePin(GPIOF, GPIO_PIN_3, GPIO_PIN_SET);\n",
    "        else\n",
    "          HAL_GPIO_WritePin(GPIOF, GPIO_PIN_3, GPIO_PIN_RESET);\n",
    "\n",
    "        osDelay(20);\n",
    "\n",
    "        /* Store received bit */\n",
    "        HAL_GPIO_WritePin(GPIOF, GPIO_PIN_10, GPIO_PIN_SET);\n",
    "        osDelay(20);\n",
    "        HAL_GPIO_WritePin(GPIOF, GPIO_PIN_10, GPIO_PIN_RESET);\n",
    "\n",
    "        /* Shift to next bit */\n",
    "        msg.flags >>= 1;\n",
    "      }\n",
    "      /* Write stored data to shift register output */\n",
    "        HAL_GPIO_WritePin(GPIOF, GPIO_PIN_5, GPIO_PIN_SET);\n",
    "        osDelay(1);\n",
    "        HAL_GPIO_WritePin(GPIOF, GPIO_PIN_5, GPIO_PIN_RESET);\n",
    "    }\n",
    "  }\n",
    "}\n",
    "```"
   ]
  },
  {
   "cell_type": "markdown",
   "id": "UKVjpONfrYSi",
   "metadata": {
    "id": "UKVjpONfrYSi"
   },
   "source": [
    "### <span style=\"color:blue\">Software components</span>\n",
    "\n",
    "- Reference to component schematics in PDF\n",
    "- Other bibliographic resources"
   ]
  }
 ],
 "metadata": {
  "colab": {
   "provenance": []
  },
  "kernelspec": {
   "display_name": "Python 3 (ipykernel)",
   "language": "python",
   "name": "python3"
  },
  "language_info": {
   "codemirror_mode": {
    "name": "ipython",
    "version": 3
   },
   "file_extension": ".py",
   "mimetype": "text/x-python",
   "name": "python",
   "nbconvert_exporter": "python",
   "pygments_lexer": "ipython3",
   "version": "3.10.6"
  }
 },
 "nbformat": 4,
 "nbformat_minor": 5
}
